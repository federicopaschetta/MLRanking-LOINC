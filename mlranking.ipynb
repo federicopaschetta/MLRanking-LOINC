{
 "cells": [
  {
   "cell_type": "markdown",
   "metadata": {},
   "source": [
    "### Importing necessary libraries"
   ]
  },
  {
   "cell_type": "code",
   "execution_count": 2,
   "metadata": {},
   "outputs": [],
   "source": [
    "import pandas as pd\n",
    "from sklearn.feature_extraction.text import TfidfVectorizer\n",
    "from sklearn.metrics.pairwise import cosine_similarity\n",
    "from sklearn.metrics import confusion_matrix, recall_score, precision_score\n",
    "import re"
   ]
  },
  {
   "cell_type": "markdown",
   "metadata": {},
   "source": [
    "### Reading datasets given"
   ]
  },
  {
   "cell_type": "code",
   "execution_count": 3,
   "metadata": {},
   "outputs": [
    {
     "data": {
      "text/html": [
       "<div>\n",
       "<style scoped>\n",
       "    .dataframe tbody tr th:only-of-type {\n",
       "        vertical-align: middle;\n",
       "    }\n",
       "\n",
       "    .dataframe tbody tr th {\n",
       "        vertical-align: top;\n",
       "    }\n",
       "\n",
       "    .dataframe thead th {\n",
       "        text-align: right;\n",
       "    }\n",
       "</style>\n",
       "<table border=\"1\" class=\"dataframe\">\n",
       "  <thead>\n",
       "    <tr style=\"text-align: right;\">\n",
       "      <th></th>\n",
       "      <th>loinc_num</th>\n",
       "      <th>long_common_name</th>\n",
       "      <th>component</th>\n",
       "      <th>system</th>\n",
       "      <th>property</th>\n",
       "      <th>relevance</th>\n",
       "    </tr>\n",
       "  </thead>\n",
       "  <tbody>\n",
       "    <tr>\n",
       "      <th>0</th>\n",
       "      <td>1988-5</td>\n",
       "      <td>C reactive protein [Mass/volume] in Serum or P...</td>\n",
       "      <td>C reactive protein</td>\n",
       "      <td>Ser/Plas</td>\n",
       "      <td>MCnc</td>\n",
       "      <td>0</td>\n",
       "    </tr>\n",
       "    <tr>\n",
       "      <th>1</th>\n",
       "      <td>1959-6</td>\n",
       "      <td>Bicarbonate [Moles/volume] in Blood</td>\n",
       "      <td>Bicarbonate</td>\n",
       "      <td>Bld</td>\n",
       "      <td>SCnc</td>\n",
       "      <td>1</td>\n",
       "    </tr>\n",
       "    <tr>\n",
       "      <th>2</th>\n",
       "      <td>10331-7</td>\n",
       "      <td>Rh [Type] in Blood</td>\n",
       "      <td>Rh</td>\n",
       "      <td>Bld</td>\n",
       "      <td>Type</td>\n",
       "      <td>1</td>\n",
       "    </tr>\n",
       "    <tr>\n",
       "      <th>3</th>\n",
       "      <td>18998-5</td>\n",
       "      <td>Trimethoprim+Sulfamethoxazole [Susceptibility]</td>\n",
       "      <td>Trimethoprim+Sulfamethoxazole</td>\n",
       "      <td>Isolate</td>\n",
       "      <td>Susc</td>\n",
       "      <td>0</td>\n",
       "    </tr>\n",
       "    <tr>\n",
       "      <th>4</th>\n",
       "      <td>1975-2</td>\n",
       "      <td>Bilirubin.total [Mass/volume] in Serum or Plasma</td>\n",
       "      <td>Bilirubin</td>\n",
       "      <td>Ser/Plas</td>\n",
       "      <td>MCnc</td>\n",
       "      <td>0</td>\n",
       "    </tr>\n",
       "  </tbody>\n",
       "</table>\n",
       "</div>"
      ],
      "text/plain": [
       "  loinc_num                                   long_common_name  \\\n",
       "0    1988-5  C reactive protein [Mass/volume] in Serum or P...   \n",
       "1    1959-6                Bicarbonate [Moles/volume] in Blood   \n",
       "2   10331-7                                 Rh [Type] in Blood   \n",
       "3   18998-5     Trimethoprim+Sulfamethoxazole [Susceptibility]   \n",
       "4    1975-2   Bilirubin.total [Mass/volume] in Serum or Plasma   \n",
       "\n",
       "                       component    system property  relevance  \n",
       "0             C reactive protein  Ser/Plas     MCnc          0  \n",
       "1                    Bicarbonate       Bld     SCnc          1  \n",
       "2                             Rh       Bld     Type          1  \n",
       "3  Trimethoprim+Sulfamethoxazole   Isolate     Susc          0  \n",
       "4                      Bilirubin  Ser/Plas     MCnc          0  "
      ]
     },
     "execution_count": 3,
     "metadata": {},
     "output_type": "execute_result"
    }
   ],
   "source": [
    "old_glucose_df = pd.read_excel('loinc_dataset-v2.xlsx', header=2, sheet_name='glucose in blood')\n",
    "old_glucose_df.head()"
   ]
  },
  {
   "cell_type": "code",
   "execution_count": 4,
   "metadata": {},
   "outputs": [
    {
     "data": {
      "text/html": [
       "<div>\n",
       "<style scoped>\n",
       "    .dataframe tbody tr th:only-of-type {\n",
       "        vertical-align: middle;\n",
       "    }\n",
       "\n",
       "    .dataframe tbody tr th {\n",
       "        vertical-align: top;\n",
       "    }\n",
       "\n",
       "    .dataframe thead th {\n",
       "        text-align: right;\n",
       "    }\n",
       "</style>\n",
       "<table border=\"1\" class=\"dataframe\">\n",
       "  <thead>\n",
       "    <tr style=\"text-align: right;\">\n",
       "      <th></th>\n",
       "      <th>loinc_num</th>\n",
       "      <th>long_common_name</th>\n",
       "      <th>component</th>\n",
       "      <th>system</th>\n",
       "      <th>property</th>\n",
       "      <th>relevance</th>\n",
       "    </tr>\n",
       "  </thead>\n",
       "  <tbody>\n",
       "    <tr>\n",
       "      <th>0</th>\n",
       "      <td>934-0</td>\n",
       "      <td>Blood product unit ID [#]</td>\n",
       "      <td>Blood product unit ID</td>\n",
       "      <td>Dose</td>\n",
       "      <td>Num</td>\n",
       "      <td>0</td>\n",
       "    </tr>\n",
       "    <tr>\n",
       "      <th>1</th>\n",
       "      <td>1742-6</td>\n",
       "      <td>Alanine aminotransferase [Enzymatic activity/v...</td>\n",
       "      <td>Alanine aminotransferase</td>\n",
       "      <td>Ser/Plas</td>\n",
       "      <td>CCnc</td>\n",
       "      <td>0</td>\n",
       "    </tr>\n",
       "    <tr>\n",
       "      <th>2</th>\n",
       "      <td>20565-8</td>\n",
       "      <td>Carbon dioxide, total [Moles/volume] in Blood</td>\n",
       "      <td>Carbon dioxide</td>\n",
       "      <td>Bld</td>\n",
       "      <td>SCnc</td>\n",
       "      <td>0</td>\n",
       "    </tr>\n",
       "    <tr>\n",
       "      <th>3</th>\n",
       "      <td>1959-6</td>\n",
       "      <td>Bicarbonate [Moles/volume] in Blood</td>\n",
       "      <td>Bicarbonate</td>\n",
       "      <td>Bld</td>\n",
       "      <td>SCnc</td>\n",
       "      <td>0</td>\n",
       "    </tr>\n",
       "    <tr>\n",
       "      <th>4</th>\n",
       "      <td>18906-8</td>\n",
       "      <td>Ciprofloxacin [Susceptibility]</td>\n",
       "      <td>Ciprofloxacin</td>\n",
       "      <td>Isolate</td>\n",
       "      <td>Susc</td>\n",
       "      <td>0</td>\n",
       "    </tr>\n",
       "  </tbody>\n",
       "</table>\n",
       "</div>"
      ],
      "text/plain": [
       "  loinc_num                                   long_common_name  \\\n",
       "0     934-0                          Blood product unit ID [#]   \n",
       "1    1742-6  Alanine aminotransferase [Enzymatic activity/v...   \n",
       "2   20565-8      Carbon dioxide, total [Moles/volume] in Blood   \n",
       "3    1959-6                Bicarbonate [Moles/volume] in Blood   \n",
       "4   18906-8                     Ciprofloxacin [Susceptibility]   \n",
       "\n",
       "                  component    system property  relevance  \n",
       "0     Blood product unit ID      Dose      Num          0  \n",
       "1  Alanine aminotransferase  Ser/Plas     CCnc          0  \n",
       "2            Carbon dioxide       Bld     SCnc          0  \n",
       "3               Bicarbonate       Bld     SCnc          0  \n",
       "4             Ciprofloxacin   Isolate     Susc          0  "
      ]
     },
     "execution_count": 4,
     "metadata": {},
     "output_type": "execute_result"
    }
   ],
   "source": [
    "old_bilirubin_df = pd.read_excel('loinc_dataset-v2.xlsx', header=2, sheet_name='bilirubin in plasma')\n",
    "old_bilirubin_df.head()"
   ]
  },
  {
   "cell_type": "code",
   "execution_count": 5,
   "metadata": {},
   "outputs": [
    {
     "data": {
      "text/html": [
       "<div>\n",
       "<style scoped>\n",
       "    .dataframe tbody tr th:only-of-type {\n",
       "        vertical-align: middle;\n",
       "    }\n",
       "\n",
       "    .dataframe tbody tr th {\n",
       "        vertical-align: top;\n",
       "    }\n",
       "\n",
       "    .dataframe thead th {\n",
       "        text-align: right;\n",
       "    }\n",
       "</style>\n",
       "<table border=\"1\" class=\"dataframe\">\n",
       "  <thead>\n",
       "    <tr style=\"text-align: right;\">\n",
       "      <th></th>\n",
       "      <th>loinc_num</th>\n",
       "      <th>long_common_name</th>\n",
       "      <th>component</th>\n",
       "      <th>system</th>\n",
       "      <th>property</th>\n",
       "      <th>relevance</th>\n",
       "    </tr>\n",
       "  </thead>\n",
       "  <tbody>\n",
       "    <tr>\n",
       "      <th>0</th>\n",
       "      <td>33870-7</td>\n",
       "      <td>Bilirubin.total [Presence] in Unspecified spec...</td>\n",
       "      <td>Bilirubin</td>\n",
       "      <td>XXX</td>\n",
       "      <td>PrThr</td>\n",
       "      <td>0</td>\n",
       "    </tr>\n",
       "    <tr>\n",
       "      <th>1</th>\n",
       "      <td>29265-6</td>\n",
       "      <td>Calcium [Moles/volume] corrected for albumin i...</td>\n",
       "      <td>Calcium^^corrected for albumin</td>\n",
       "      <td>Ser/Plas</td>\n",
       "      <td>SCnc</td>\n",
       "      <td>0</td>\n",
       "    </tr>\n",
       "    <tr>\n",
       "      <th>2</th>\n",
       "      <td>14423-8</td>\n",
       "      <td>Bilirubin.total [Mass/volume] in Synovial fluid</td>\n",
       "      <td>Bilirubin</td>\n",
       "      <td>Synv fld</td>\n",
       "      <td>MCnc</td>\n",
       "      <td>0</td>\n",
       "    </tr>\n",
       "    <tr>\n",
       "      <th>3</th>\n",
       "      <td>23658-8</td>\n",
       "      <td>Other Antibiotic [Susceptibility]</td>\n",
       "      <td>Antibiotic XXX</td>\n",
       "      <td>Isolate</td>\n",
       "      <td>Susc</td>\n",
       "      <td>0</td>\n",
       "    </tr>\n",
       "    <tr>\n",
       "      <th>4</th>\n",
       "      <td>19000-9</td>\n",
       "      <td>Vancomycin [Susceptibility]</td>\n",
       "      <td>Vancomycin</td>\n",
       "      <td>Isolate</td>\n",
       "      <td>Susc</td>\n",
       "      <td>0</td>\n",
       "    </tr>\n",
       "  </tbody>\n",
       "</table>\n",
       "</div>"
      ],
      "text/plain": [
       "  loinc_num                                   long_common_name  \\\n",
       "0   33870-7  Bilirubin.total [Presence] in Unspecified spec...   \n",
       "1   29265-6  Calcium [Moles/volume] corrected for albumin i...   \n",
       "2   14423-8    Bilirubin.total [Mass/volume] in Synovial fluid   \n",
       "3   23658-8                  Other Antibiotic [Susceptibility]   \n",
       "4   19000-9                        Vancomycin [Susceptibility]   \n",
       "\n",
       "                        component    system property  relevance  \n",
       "0                       Bilirubin       XXX    PrThr          0  \n",
       "1  Calcium^^corrected for albumin  Ser/Plas     SCnc          0  \n",
       "2                       Bilirubin  Synv fld     MCnc          0  \n",
       "3                  Antibiotic XXX   Isolate     Susc          0  \n",
       "4                      Vancomycin   Isolate     Susc          0  "
      ]
     },
     "execution_count": 5,
     "metadata": {},
     "output_type": "execute_result"
    }
   ],
   "source": [
    "old_white_cells_df = pd.read_excel('loinc_dataset-v2.xlsx', header=2, sheet_name='White blood cells count')\n",
    "old_white_cells_df.head()"
   ]
  },
  {
   "cell_type": "markdown",
   "metadata": {},
   "source": [
    "### Reading dataset with all LOINC codes"
   ]
  },
  {
   "cell_type": "code",
   "execution_count": 6,
   "metadata": {},
   "outputs": [
    {
     "name": "stderr",
     "output_type": "stream",
     "text": [
      "C:\\Users\\fedep\\AppData\\Local\\Temp\\ipykernel_14020\\214893654.py:1: DtypeWarning: Columns (14) have mixed types. Specify dtype option on import or set low_memory=False.\n",
      "  new_df = pd.read_csv('LoincTableCore.csv')\n"
     ]
    },
    {
     "data": {
      "text/html": [
       "<div>\n",
       "<style scoped>\n",
       "    .dataframe tbody tr th:only-of-type {\n",
       "        vertical-align: middle;\n",
       "    }\n",
       "\n",
       "    .dataframe tbody tr th {\n",
       "        vertical-align: top;\n",
       "    }\n",
       "\n",
       "    .dataframe thead th {\n",
       "        text-align: right;\n",
       "    }\n",
       "</style>\n",
       "<table border=\"1\" class=\"dataframe\">\n",
       "  <thead>\n",
       "    <tr style=\"text-align: right;\">\n",
       "      <th></th>\n",
       "      <th>LOINC_NUM</th>\n",
       "      <th>COMPONENT</th>\n",
       "      <th>PROPERTY</th>\n",
       "      <th>TIME_ASPCT</th>\n",
       "      <th>SYSTEM</th>\n",
       "      <th>SCALE_TYP</th>\n",
       "      <th>METHOD_TYP</th>\n",
       "      <th>CLASS</th>\n",
       "      <th>CLASSTYPE</th>\n",
       "      <th>LONG_COMMON_NAME</th>\n",
       "      <th>SHORTNAME</th>\n",
       "      <th>EXTERNAL_COPYRIGHT_NOTICE</th>\n",
       "      <th>STATUS</th>\n",
       "      <th>VersionFirstReleased</th>\n",
       "      <th>VersionLastChanged</th>\n",
       "    </tr>\n",
       "  </thead>\n",
       "  <tbody>\n",
       "    <tr>\n",
       "      <th>0</th>\n",
       "      <td>100000-9</td>\n",
       "      <td>Health informatics pioneer and the father of L...</td>\n",
       "      <td>Hx</td>\n",
       "      <td>Pt</td>\n",
       "      <td>^Patient</td>\n",
       "      <td>Nar</td>\n",
       "      <td>NaN</td>\n",
       "      <td>H&amp;P.HX</td>\n",
       "      <td>2</td>\n",
       "      <td>Health informatics pioneer and the father of L...</td>\n",
       "      <td>Health Info Pioneer+Father of LOINC</td>\n",
       "      <td>NaN</td>\n",
       "      <td>ACTIVE</td>\n",
       "      <td>2.74</td>\n",
       "      <td>2.74</td>\n",
       "    </tr>\n",
       "    <tr>\n",
       "      <th>1</th>\n",
       "      <td>100001-7</td>\n",
       "      <td>Health informatics pioneer and cofounder of LOINC</td>\n",
       "      <td>Hx</td>\n",
       "      <td>Pt</td>\n",
       "      <td>^Patient</td>\n",
       "      <td>Nar</td>\n",
       "      <td>NaN</td>\n",
       "      <td>H&amp;P.HX</td>\n",
       "      <td>2</td>\n",
       "      <td>Health informatics pioneer and cofounder of LOINC</td>\n",
       "      <td>Health Info Pioneer+Cofound LOINC</td>\n",
       "      <td>NaN</td>\n",
       "      <td>ACTIVE</td>\n",
       "      <td>2.74</td>\n",
       "      <td>2.74</td>\n",
       "    </tr>\n",
       "    <tr>\n",
       "      <th>2</th>\n",
       "      <td>100002-5</td>\n",
       "      <td>Specimen care is maintained</td>\n",
       "      <td>Find</td>\n",
       "      <td>Pt</td>\n",
       "      <td>^Patient</td>\n",
       "      <td>Ord</td>\n",
       "      <td>NaN</td>\n",
       "      <td>SURVEY.PNDS</td>\n",
       "      <td>4</td>\n",
       "      <td>Specimen care is maintained</td>\n",
       "      <td>NaN</td>\n",
       "      <td>NaN</td>\n",
       "      <td>ACTIVE</td>\n",
       "      <td>2.72</td>\n",
       "      <td>2.72</td>\n",
       "    </tr>\n",
       "    <tr>\n",
       "      <th>3</th>\n",
       "      <td>100003-3</td>\n",
       "      <td>Team communication is maintained throughout care</td>\n",
       "      <td>Find</td>\n",
       "      <td>Pt</td>\n",
       "      <td>^Patient</td>\n",
       "      <td>Ord</td>\n",
       "      <td>NaN</td>\n",
       "      <td>SURVEY.PNDS</td>\n",
       "      <td>4</td>\n",
       "      <td>Team communication is maintained throughout care</td>\n",
       "      <td>NaN</td>\n",
       "      <td>NaN</td>\n",
       "      <td>ACTIVE</td>\n",
       "      <td>2.72</td>\n",
       "      <td>2.72</td>\n",
       "    </tr>\n",
       "    <tr>\n",
       "      <th>4</th>\n",
       "      <td>100004-1</td>\n",
       "      <td>Demonstrates knowledge of the expected psychos...</td>\n",
       "      <td>Find</td>\n",
       "      <td>Pt</td>\n",
       "      <td>^Patient</td>\n",
       "      <td>Ord</td>\n",
       "      <td>NaN</td>\n",
       "      <td>SURVEY.PNDS</td>\n",
       "      <td>4</td>\n",
       "      <td>Demonstrates knowledge of the expected psychos...</td>\n",
       "      <td>NaN</td>\n",
       "      <td>NaN</td>\n",
       "      <td>ACTIVE</td>\n",
       "      <td>2.72</td>\n",
       "      <td>2.72</td>\n",
       "    </tr>\n",
       "  </tbody>\n",
       "</table>\n",
       "</div>"
      ],
      "text/plain": [
       "  LOINC_NUM                                          COMPONENT PROPERTY  \\\n",
       "0  100000-9  Health informatics pioneer and the father of L...       Hx   \n",
       "1  100001-7  Health informatics pioneer and cofounder of LOINC       Hx   \n",
       "2  100002-5                        Specimen care is maintained     Find   \n",
       "3  100003-3   Team communication is maintained throughout care     Find   \n",
       "4  100004-1  Demonstrates knowledge of the expected psychos...     Find   \n",
       "\n",
       "  TIME_ASPCT    SYSTEM SCALE_TYP METHOD_TYP        CLASS  CLASSTYPE  \\\n",
       "0         Pt  ^Patient       Nar        NaN       H&P.HX          2   \n",
       "1         Pt  ^Patient       Nar        NaN       H&P.HX          2   \n",
       "2         Pt  ^Patient       Ord        NaN  SURVEY.PNDS          4   \n",
       "3         Pt  ^Patient       Ord        NaN  SURVEY.PNDS          4   \n",
       "4         Pt  ^Patient       Ord        NaN  SURVEY.PNDS          4   \n",
       "\n",
       "                                    LONG_COMMON_NAME  \\\n",
       "0  Health informatics pioneer and the father of L...   \n",
       "1  Health informatics pioneer and cofounder of LOINC   \n",
       "2                        Specimen care is maintained   \n",
       "3   Team communication is maintained throughout care   \n",
       "4  Demonstrates knowledge of the expected psychos...   \n",
       "\n",
       "                             SHORTNAME EXTERNAL_COPYRIGHT_NOTICE  STATUS  \\\n",
       "0  Health Info Pioneer+Father of LOINC                       NaN  ACTIVE   \n",
       "1    Health Info Pioneer+Cofound LOINC                       NaN  ACTIVE   \n",
       "2                                  NaN                       NaN  ACTIVE   \n",
       "3                                  NaN                       NaN  ACTIVE   \n",
       "4                                  NaN                       NaN  ACTIVE   \n",
       "\n",
       "  VersionFirstReleased VersionLastChanged  \n",
       "0                 2.74               2.74  \n",
       "1                 2.74               2.74  \n",
       "2                 2.72               2.72  \n",
       "3                 2.72               2.72  \n",
       "4                 2.72               2.72  "
      ]
     },
     "execution_count": 6,
     "metadata": {},
     "output_type": "execute_result"
    }
   ],
   "source": [
    "new_df = pd.read_csv('LoincTableCore.csv')\n",
    "new_df.head()"
   ]
  },
  {
   "cell_type": "markdown",
   "metadata": {},
   "source": [
    "### Reducing dataset keeping only attributes in first dataset"
   ]
  },
  {
   "cell_type": "code",
   "execution_count": 7,
   "metadata": {},
   "outputs": [
    {
     "name": "stderr",
     "output_type": "stream",
     "text": [
      "C:\\Users\\fedep\\AppData\\Local\\Temp\\ipykernel_14020\\1658488522.py:3: SettingWithCopyWarning: \n",
      "A value is trying to be set on a copy of a slice from a DataFrame\n",
      "\n",
      "See the caveats in the documentation: https://pandas.pydata.org/pandas-docs/stable/user_guide/indexing.html#returning-a-view-versus-a-copy\n",
      "  df_extended.rename(columns={col: col.lower()}, inplace=True)\n"
     ]
    },
    {
     "data": {
      "text/html": [
       "<div>\n",
       "<style scoped>\n",
       "    .dataframe tbody tr th:only-of-type {\n",
       "        vertical-align: middle;\n",
       "    }\n",
       "\n",
       "    .dataframe tbody tr th {\n",
       "        vertical-align: top;\n",
       "    }\n",
       "\n",
       "    .dataframe thead th {\n",
       "        text-align: right;\n",
       "    }\n",
       "</style>\n",
       "<table border=\"1\" class=\"dataframe\">\n",
       "  <thead>\n",
       "    <tr style=\"text-align: right;\">\n",
       "      <th></th>\n",
       "      <th>loinc_num</th>\n",
       "      <th>component</th>\n",
       "      <th>property</th>\n",
       "      <th>system</th>\n",
       "      <th>long_common_name</th>\n",
       "    </tr>\n",
       "  </thead>\n",
       "  <tbody>\n",
       "    <tr>\n",
       "      <th>0</th>\n",
       "      <td>100000-9</td>\n",
       "      <td>Health informatics pioneer and the father of L...</td>\n",
       "      <td>Hx</td>\n",
       "      <td>^Patient</td>\n",
       "      <td>Health informatics pioneer and the father of L...</td>\n",
       "    </tr>\n",
       "    <tr>\n",
       "      <th>1</th>\n",
       "      <td>100001-7</td>\n",
       "      <td>Health informatics pioneer and cofounder of LOINC</td>\n",
       "      <td>Hx</td>\n",
       "      <td>^Patient</td>\n",
       "      <td>Health informatics pioneer and cofounder of LOINC</td>\n",
       "    </tr>\n",
       "    <tr>\n",
       "      <th>2</th>\n",
       "      <td>100002-5</td>\n",
       "      <td>Specimen care is maintained</td>\n",
       "      <td>Find</td>\n",
       "      <td>^Patient</td>\n",
       "      <td>Specimen care is maintained</td>\n",
       "    </tr>\n",
       "    <tr>\n",
       "      <th>3</th>\n",
       "      <td>100003-3</td>\n",
       "      <td>Team communication is maintained throughout care</td>\n",
       "      <td>Find</td>\n",
       "      <td>^Patient</td>\n",
       "      <td>Team communication is maintained throughout care</td>\n",
       "    </tr>\n",
       "    <tr>\n",
       "      <th>4</th>\n",
       "      <td>100004-1</td>\n",
       "      <td>Demonstrates knowledge of the expected psychos...</td>\n",
       "      <td>Find</td>\n",
       "      <td>^Patient</td>\n",
       "      <td>Demonstrates knowledge of the expected psychos...</td>\n",
       "    </tr>\n",
       "  </tbody>\n",
       "</table>\n",
       "</div>"
      ],
      "text/plain": [
       "  loinc_num                                          component property  \\\n",
       "0  100000-9  Health informatics pioneer and the father of L...       Hx   \n",
       "1  100001-7  Health informatics pioneer and cofounder of LOINC       Hx   \n",
       "2  100002-5                        Specimen care is maintained     Find   \n",
       "3  100003-3   Team communication is maintained throughout care     Find   \n",
       "4  100004-1  Demonstrates knowledge of the expected psychos...     Find   \n",
       "\n",
       "     system                                   long_common_name  \n",
       "0  ^Patient  Health informatics pioneer and the father of L...  \n",
       "1  ^Patient  Health informatics pioneer and cofounder of LOINC  \n",
       "2  ^Patient                        Specimen care is maintained  \n",
       "3  ^Patient   Team communication is maintained throughout care  \n",
       "4  ^Patient  Demonstrates knowledge of the expected psychos...  "
      ]
     },
     "execution_count": 7,
     "metadata": {},
     "output_type": "execute_result"
    }
   ],
   "source": [
    "df_extended = new_df[[col for col in new_df.columns if col.lower() in list(old_glucose_df.columns)]]\n",
    "for col in df_extended.columns:\n",
    "    df_extended.rename(columns={col: col.lower()}, inplace=True)\n",
    "df_extended.head()"
   ]
  },
  {
   "cell_type": "markdown",
   "metadata": {},
   "source": [
    "### Mapping properties abbreviations to meaning"
   ]
  },
  {
   "cell_type": "code",
   "execution_count": 8,
   "metadata": {},
   "outputs": [],
   "source": [
    "def read_property_dict(filepath: str) -> dict:\n",
    "    prop_dict = {}\n",
    "    df = pd.read_csv(filepath, header=0)\n",
    "    for index, row in df.iterrows():\n",
    "        prop_dict[row.iloc[1]] = row.iloc[2]\n",
    "    return prop_dict\n"
   ]
  },
  {
   "cell_type": "markdown",
   "metadata": {},
   "source": [
    "### Calling property map function"
   ]
  },
  {
   "cell_type": "code",
   "execution_count": 9,
   "metadata": {},
   "outputs": [
    {
     "name": "stdout",
     "output_type": "stream",
     "text": [
      "{'CAct': '*Catalytic Activity', 'CCnc': 'Catalytic Concentration', 'CRto': 'Catalytic Ratio', 'CCnt': '*Catalytic Content', 'CFr': '*Catalytic Fraction', 'CFr.DF': 'Decimal Catalytic Fraction', 'CRat': 'Catalytic Rate', 'RelCCnc': 'Relative Catalytic Concentration', 'CSub': 'Catalytic Substance', 'EntCat': '*Entitic Catalytic Activity', 'EntLen': 'Entitic Length', 'EntLogNum': 'Logarithmic Entitic Number', 'EntMass': 'Entitic Mass', 'EntNum': '*Entitic Number', 'EntVol': '*Entitic Volume', 'EntSub': 'Entitic Substance', 'EntSRto': 'Entitic Substance Ratio', 'Mass': 'Mass', 'ArMass': 'Mass/Area', 'MCnc': '*Mass Concentration', 'MCncSq': 'Mass Concentration Squared', 'MCnt': 'Mass Content', 'MDiff': 'Mass Difference', 'MFr': '*Mass Fraction', 'MFr.DF': 'Mass Decimal Fraction', 'MFrDiff': 'Mass Fraction Difference', 'MRat': 'Mass Rate', 'MRto': 'Mass Ratio', 'MSCnc': 'Mass or Substance Concentration', 'RelMCnc': '*Relative Mass Concentration', 'RelMRat': 'Relative Mass Rate', 'ThrMCnc': '*Threshold Mass Concentration', 'MCncDiff': 'Difference in Mass Concentration', 'MCPctDiff': 'Percent Difference in Mass Concentration', 'RelSCnc': '*Relative Substance Concentration', 'Sub': '*Substance Amount', 'SCnc': '*Substance Concentration', 'SCncSq': 'Substance Concentration Squared', 'SRto': '*Substance Ratio', 'SCnt': '*Substance Content', 'SFr': '*Substance Fraction', 'SFr.DF': 'Decimal Substance Fraction', 'SRat': '*Substance Rate', 'RelSRat': 'Relative Substance Rate', 'ThrSCnc': 'Threshold Substance Concentration', 'SCncDiff': 'Difference in Substance Concentration', 'LsCnc': 'Log Substance Concentration', 'Num': '*Number', 'Naric': 'Number Aeric (number per area)', 'NCnc': '*Number Concentration (count/vol)', 'NCncRange': 'Number Concentration (count/vol) Range', 'NCnt': 'Number Content = Count/Mass', 'NumDiff': 'Number Difference', 'NFr': '*Number Fraction', 'NFr.DF': 'Decimal Number Fraction', 'NRat': 'Number=Count/Time', 'NRto': 'Number Ratio', 'LnRto': 'Log Number Ratio', 'LnCnc': 'Log Number Concentration', 'Vol': '*Volume', 'VCnt': '*Volume Content', 'VFr': '*Volume Fraction', 'VFr.DF': 'Volume Decimal Fraction', 'VRat': '*Volume Rate', 'VRatCnt': 'Volume Rate Content', 'VRatRto': 'Volume Rate Ratio', 'VRto': '*Volume Ratio', 'RelVol': 'Relative Volume', 'RelVRat': 'Relative Volume Rate', 'ArVol': 'Volume/Area', 'ArVRat': 'Volume Rate/Area', 'VFrDiff': 'Difference in Volume Fraction', 'VPctDiff': 'Percent Volume Difference', 'VRtoPctDiff': 'Percent Volume Ratio Difference', 'ClockTime': 'Clock Time', 'Time': 'Time Duration', 'TimeDif': 'Difference in Time Duration', 'TimeFr': 'Time Fraction', 'TRto': 'Time Ratio', 'TQ2': 'Timing Quantity 2', 'RelTime': '*Relative Time', 'Date': 'Date', 'DateRange': 'Date Range', 'DtTmRange': 'Date and Time Range', 'TmElpot': 'Time electrical potential', 'TmMCnc': 'Time mass concentration', 'TmStp': 'Time Stamp—Date and Time', 'TmStpRange': 'Time Stamp Range', 'TmSCnc': 'Time substance concentration', 'ACnc': 'Arbitrary Concentration', 'ACnt': 'Arbitrary Content', 'ThrACnc': 'Threshold Arbitrary Concentration', 'ARat': 'Arbitrary Rate', 'LaCnc': 'Log Arbitrary Concentration', 'RelACnc': 'Relative Arbitrary Concentration', 'AFr': 'Arbitrary Fraction', 'Accel': 'Acceleration', 'Addr': 'Address', 'Anat': 'Anatomy', 'Angle': 'Angle', 'Aper': 'Appearance', 'Arb': '*Arbitrary', 'Area': 'Area', 'ArArea': 'Area/Area', 'AreaFr': 'Area Fraction', 'AreaRto': 'Area Ratio', 'AUC': 'Area under the curve', 'Bib': 'Bibliographic Citation', 'Circ': 'Circumference', 'CircFr': 'Circumference Fraction', 'Class': '*Class', 'ColorRto': 'Color Ratio', 'Compli': 'Compliance', 'CompliRto': 'Compliance Ratio', 'Cmplx': 'Complex', 'Desc': 'Description', 'Diam': 'Diameter', 'Dosage': 'Dosage', 'Elcur': 'Electrical current', 'Elpot': 'Electrical Potential (Voltage)', 'ElpotRat': 'Voltage Rate (=Amperage)', 'ElpotRto': 'Electrical Potential Ratio', 'EmailAddr': 'E-mail Address', 'ArEnrg': 'Energy/Area', 'EngCnc': 'Energy Concentration', 'EngCnt': 'Energy Content', 'EngDiff': 'Energy Difference', 'EngFr': 'Energy Fraction', 'EngRat': 'Power = Energy/Time', 'RelEngRat': 'Relative Power', 'EngRatFr': 'Energy Rate Fraction', 'EngRto': 'Energy Ratio', 'Enrg': 'Energy', 'Equ': 'Equation', 'ExtendedID': 'Extended ID', 'Fcn': 'Function', 'Find': 'Finding', 'FldConduct': 'Fluid Conductance', 'FldResist': 'Fluid Resistance', 'Force': 'Mechanical Force', 'Freq': 'Frequency', 'Geno': 'Genotype', 'Hx': 'History', 'Imp': 'Impression/interpretation of study', 'ID': 'Identifier', 'Instrct': 'Instructions', 'InvLen': 'Inverse Length', 'Inverse VI': 'Inverse Inspired Volume', 'Len': 'Length', 'LenFr': 'Length Fraction', 'LRat': 'Length Rate', 'LenRto': 'Length Ratio', 'LogLenRto': 'Log Length Ratio', 'ArLen': 'Length/Area', 'Likelihood': 'Likelihood', 'Loc': 'Location', 'LogInvPct': 'Log Inverse Percent', 'LogRtoElp': 'Log Ratio Electrical Potential', 'MoM': 'Multiple of the Median', 'Morph': 'Morphology', 'NumRange': 'Number Range', 'OD': 'Optical Density', 'Osmol': '*Osmolality', 'Osmolarity': 'Osmolarity', 'PctDiff': 'Percent Difference', 'Pn': 'Person Name', 'PrThr': 'Presence or Threshold', 'Prctl': 'Percentile', 'Prid': 'Presence or Identity', 'PPres': '*Pressure (partial)', 'PPresDiff': 'Difference in Partial Pressure', 'PPresRto': 'Partial Pressure Ratio', 'Pres': 'Pressure', 'PresRat': 'Pressure Rate', 'PressDiff': 'Difference', 'PresRto': 'Pressure Ratio', 'Quintile': 'Quintile', 'Ratio': 'Ratio', 'Range': 'Range', 'RatDiff': 'Rate Difference', 'Rden': 'Relative Density', 'RelFldResist': 'Relative Fluid Resistance', 'RelRto': 'Relative Ratio', 'RelSoundInt': 'Relative Sound Intensity', 'Resis': 'Resistance', 'ArResis': 'Resistance/Area', 'SatFr': '*Saturation Fraction', 'Score': 'Score', 'ScoreDiff': 'Score Difference', 'ScoreRange': 'Score Range', 'Seq': 'Nucleotide Sequence', 'Shape': 'Shape', 'Susc': 'Susceptibility', 'Temp': '*Temperature', 'TempDiff': 'Temperature Difference', 'Tele': 'Telephone Number', 'Tscore': 'T Score', 'TscoreDiff': 'T Score Difference', 'Txt': 'Text', 'Threshold': '*Threshold', 'ThreshNum': 'Threshold Number', 'Titr': 'Dilution Factor (Titer)', 'Type': 'Type', 'URI': 'Uniform Resource Identifier', 'VCF': 'Variant Call File', 'Vel': '*Velocity', 'VelRat': 'Velocity Rate', 'VelRto': '*Velocity Ratio', 'Visc': 'Viscosity', 'Zscore': 'Z Score'}\n"
     ]
    }
   ],
   "source": [
    "prop_filepath = 'loinc_property.csv'\n",
    "property_dict = read_property_dict(prop_filepath)\n",
    "print(property_dict)"
   ]
  },
  {
   "cell_type": "markdown",
   "metadata": {},
   "source": [
    "### Mapping system abbreviations to meaning"
   ]
  },
  {
   "cell_type": "code",
   "execution_count": 10,
   "metadata": {},
   "outputs": [],
   "source": [
    "def read_system_dict(filepath: str) -> dict:\n",
    "    syst_dict = {}\n",
    "    df = pd.read_csv(filepath, header=0)\n",
    "    for index, row in df.iterrows():\n",
    "        syst_dict[row.iloc[0]] = row.iloc[1]\n",
    "    return syst_dict"
   ]
  },
  {
   "cell_type": "markdown",
   "metadata": {},
   "source": [
    "### Calling system map function"
   ]
  },
  {
   "cell_type": "code",
   "execution_count": 11,
   "metadata": {},
   "outputs": [
    {
     "name": "stdout",
     "output_type": "stream",
     "text": [
      "{'Abscess': 'Abscess', 'Amnio fld': 'Amniotic fluid', 'Anal': 'Anus', 'Asp': 'Aspirate', 'Bil fld': 'Bile fluid', 'BldA': 'Blood arterial', 'BldL': 'Blood bag', 'BldC': 'Blood capillary', 'BldCo': 'Blood – cord', 'BldCV': 'Blood – central venous', 'BldMV': 'Blood – mixed venous', 'BldP': 'Blood – peripheral', 'BldV': 'Blood venous', 'Bld.dot': 'Blood filter paper', 'Body fld': 'Body fluid, unsp', 'Bone': 'Bone', 'Brain': 'Brain', 'Bronchial': 'Bronchial', 'Burn': 'Burn', 'Calculus': 'Calculus (=Stone)', 'Cnl': 'Cannula', 'CTp': 'Catheter tip', 'CSF': 'Cerebral spinal fluid', 'Cvm': 'Cervical mucus', 'Cvx': 'Cervix', 'Col': 'Colostrum', 'Cnjt': 'Conjunctiva', 'Crn': 'Cornea', 'Dentin': 'Dentin', 'Dial fld': 'Dialysis fluid', 'Dose': 'Dose med or substance', 'Drain': 'Drain', 'Duod fld': 'Duodenal fluid', 'Ear': 'Ear', 'Endomet': 'Endometrium', 'Environmental Specimen': 'Environmental Specimen', 'RBC': 'Erythrocytes', 'Eye': 'Eye', 'Exhl gas': 'Exhaled gas (breath)', 'Fibroblasts': 'Fibroblasts', 'Fistula': 'Fistula', 'Food': 'Food sample', 'Gas': 'Gas', 'Gast fld': 'Gastric fluid/contents', 'Genital': 'Genital', 'Genital fld': 'Genital fluid', 'Genital loc': 'Genital lochia', 'Genital muc': 'Genital mucus', 'Hair': 'Hair', 'Inhl gas': 'Inhaled gas', 'Isolate': 'Isolate', 'Isolate.meningitis': 'Isolate from patient with meningitis', 'WBC': 'Leukocytes', 'Line': 'Line', 'Liver': 'Liver', 'Resp.lower': 'Lower respiratory', 'Lung tiss': 'Lung tissue', 'Bone mar': 'Marrow (bone)', 'Meconium': 'Meconium', 'Milk': 'Milk', 'Nail': 'Nail', 'Nose': 'Nose (nasal passage)', 'Nph': 'Naspopharynx', 'Penile vessels': 'Penile vessels', 'Penis': 'Penis', 'Pericard fld': 'Pericardial fluid', 'Periton fld': 'Peritoneal fluid /ascites', 'Dial fld prt': 'Peritoneal dialysis fluid', 'Oropharyngeal wash': 'Oropharyngeal wash', 'Placent': 'Placenta', 'Plas': 'Plasma', 'Plr fld': 'Pleural fluid (thoracentesis fld)', 'PPP': 'Platelet poor plasma', 'PRP': 'Platelet rich plasma', 'Pus': 'Pus', 'RBCCo': 'Red Blood Cells Cord', 'Saliva': 'Saliva', 'Semen': 'Seminal fluid', 'Ser': 'Serum', 'Skin': 'Skin', 'Sputum': 'Sputum', 'Sptt': 'Sputum - tracheal aspirate', 'Stool': 'Stool = Fecal', 'Sweat': 'Sweat', 'Synv fld': 'Synovial fluid (Joint fluid)', 'Tear': 'Tears', 'Thrt': 'Throat', 'Platelets': 'Thrombocyte (platelet)', 'Tiss': 'Tissue, unspecified', 'TissCo': 'Umbilical cord tissue', 'Tigi': 'Tissue large intestine', 'Tsmi': 'Tissue small intestine', 'Trachea': 'Trachea', 'Tube': 'Tube, unspecified', 'Ulc': 'Ulcer', 'Urethra': 'Urethra', 'Urine': 'Urine', 'Urine sed': 'Urine sediment', 'Unk sub': 'Unknown substance', 'Vag': 'Vagina', 'Vitr fld': 'Vitreous Fluid', 'Vomitus': 'Vomitus', 'Bld': 'Whole blood', 'Water': 'Water', 'Wound': 'Wound', 'XXX': 'See Section 2.5.1'}\n"
     ]
    }
   ],
   "source": [
    "syst_filepath = 'loinc_system.csv'\n",
    "system_dict = read_system_dict(syst_filepath)\n",
    "print(system_dict)"
   ]
  },
  {
   "cell_type": "markdown",
   "metadata": {},
   "source": [
    "### Updating dataset with meanings instead of abbreviations"
   ]
  },
  {
   "cell_type": "code",
   "execution_count": 12,
   "metadata": {},
   "outputs": [],
   "source": [
    "def update_df(df, prop_dict, system_dict):\n",
    "    df_copy = df.copy()\n",
    "    for index, row in df.iterrows():\n",
    "        if row['property'] in prop_dict:\n",
    "            df_copy.at[index, 'property'] = prop_dict[row['property']]\n",
    "        if row['system'] in system_dict:\n",
    "            df_copy.at[index, 'system'] = system_dict[row['system']]\n",
    "    return df_copy\n"
   ]
  },
  {
   "cell_type": "code",
   "execution_count": 13,
   "metadata": {},
   "outputs": [],
   "source": [
    "old_bilirubin_df = update_df(old_bilirubin_df, property_dict, system_dict)\n",
    "old_glucose_df = update_df(old_glucose_df, property_dict, system_dict)\n",
    "old_white_cells_df = update_df(old_white_cells_df, property_dict, system_dict)"
   ]
  },
  {
   "cell_type": "code",
   "execution_count": 14,
   "metadata": {},
   "outputs": [
    {
     "data": {
      "text/html": [
       "<div>\n",
       "<style scoped>\n",
       "    .dataframe tbody tr th:only-of-type {\n",
       "        vertical-align: middle;\n",
       "    }\n",
       "\n",
       "    .dataframe tbody tr th {\n",
       "        vertical-align: top;\n",
       "    }\n",
       "\n",
       "    .dataframe thead th {\n",
       "        text-align: right;\n",
       "    }\n",
       "</style>\n",
       "<table border=\"1\" class=\"dataframe\">\n",
       "  <thead>\n",
       "    <tr style=\"text-align: right;\">\n",
       "      <th></th>\n",
       "      <th>loinc_num</th>\n",
       "      <th>component</th>\n",
       "      <th>property</th>\n",
       "      <th>system</th>\n",
       "      <th>long_common_name</th>\n",
       "    </tr>\n",
       "  </thead>\n",
       "  <tbody>\n",
       "    <tr>\n",
       "      <th>0</th>\n",
       "      <td>100000-9</td>\n",
       "      <td>Health informatics pioneer and the father of L...</td>\n",
       "      <td>History</td>\n",
       "      <td>^Patient</td>\n",
       "      <td>Health informatics pioneer and the father of L...</td>\n",
       "    </tr>\n",
       "    <tr>\n",
       "      <th>1</th>\n",
       "      <td>100001-7</td>\n",
       "      <td>Health informatics pioneer and cofounder of LOINC</td>\n",
       "      <td>History</td>\n",
       "      <td>^Patient</td>\n",
       "      <td>Health informatics pioneer and cofounder of LOINC</td>\n",
       "    </tr>\n",
       "    <tr>\n",
       "      <th>2</th>\n",
       "      <td>100002-5</td>\n",
       "      <td>Specimen care is maintained</td>\n",
       "      <td>Finding</td>\n",
       "      <td>^Patient</td>\n",
       "      <td>Specimen care is maintained</td>\n",
       "    </tr>\n",
       "    <tr>\n",
       "      <th>3</th>\n",
       "      <td>100003-3</td>\n",
       "      <td>Team communication is maintained throughout care</td>\n",
       "      <td>Finding</td>\n",
       "      <td>^Patient</td>\n",
       "      <td>Team communication is maintained throughout care</td>\n",
       "    </tr>\n",
       "    <tr>\n",
       "      <th>4</th>\n",
       "      <td>100004-1</td>\n",
       "      <td>Demonstrates knowledge of the expected psychos...</td>\n",
       "      <td>Finding</td>\n",
       "      <td>^Patient</td>\n",
       "      <td>Demonstrates knowledge of the expected psychos...</td>\n",
       "    </tr>\n",
       "    <tr>\n",
       "      <th>...</th>\n",
       "      <td>...</td>\n",
       "      <td>...</td>\n",
       "      <td>...</td>\n",
       "      <td>...</td>\n",
       "      <td>...</td>\n",
       "    </tr>\n",
       "    <tr>\n",
       "      <th>102460</th>\n",
       "      <td>99994-6</td>\n",
       "      <td>Fluid, electrolyte, and acid-base balances are...</td>\n",
       "      <td>Finding</td>\n",
       "      <td>^Patient</td>\n",
       "      <td>Fluid, electrolyte, and acid-base balances are...</td>\n",
       "    </tr>\n",
       "    <tr>\n",
       "      <th>102461</th>\n",
       "      <td>99995-3</td>\n",
       "      <td>Respiratory status is maintained at or improve...</td>\n",
       "      <td>Finding</td>\n",
       "      <td>^Patient</td>\n",
       "      <td>Respiratory status is maintained at or improve...</td>\n",
       "    </tr>\n",
       "    <tr>\n",
       "      <th>102462</th>\n",
       "      <td>99996-1</td>\n",
       "      <td>Cardiovascular status is maintained at or impr...</td>\n",
       "      <td>Finding</td>\n",
       "      <td>^Patient</td>\n",
       "      <td>Cardiovascular status is maintained at or impr...</td>\n",
       "    </tr>\n",
       "    <tr>\n",
       "      <th>102463</th>\n",
       "      <td>99997-9</td>\n",
       "      <td>Demonstrates &amp;or reports adequate pain control</td>\n",
       "      <td>Finding</td>\n",
       "      <td>^Patient</td>\n",
       "      <td>Demonstrates AndOr reports adequate pain control</td>\n",
       "    </tr>\n",
       "    <tr>\n",
       "      <th>102464</th>\n",
       "      <td>99998-7</td>\n",
       "      <td>Neurological status is maintained at or improv...</td>\n",
       "      <td>Finding</td>\n",
       "      <td>^Patient</td>\n",
       "      <td>Neurological status is maintained at or improv...</td>\n",
       "    </tr>\n",
       "  </tbody>\n",
       "</table>\n",
       "<p>102465 rows × 5 columns</p>\n",
       "</div>"
      ],
      "text/plain": [
       "       loinc_num                                          component property  \\\n",
       "0       100000-9  Health informatics pioneer and the father of L...  History   \n",
       "1       100001-7  Health informatics pioneer and cofounder of LOINC  History   \n",
       "2       100002-5                        Specimen care is maintained  Finding   \n",
       "3       100003-3   Team communication is maintained throughout care  Finding   \n",
       "4       100004-1  Demonstrates knowledge of the expected psychos...  Finding   \n",
       "...          ...                                                ...      ...   \n",
       "102460   99994-6  Fluid, electrolyte, and acid-base balances are...  Finding   \n",
       "102461   99995-3  Respiratory status is maintained at or improve...  Finding   \n",
       "102462   99996-1  Cardiovascular status is maintained at or impr...  Finding   \n",
       "102463   99997-9     Demonstrates &or reports adequate pain control  Finding   \n",
       "102464   99998-7  Neurological status is maintained at or improv...  Finding   \n",
       "\n",
       "          system                                   long_common_name  \n",
       "0       ^Patient  Health informatics pioneer and the father of L...  \n",
       "1       ^Patient  Health informatics pioneer and cofounder of LOINC  \n",
       "2       ^Patient                        Specimen care is maintained  \n",
       "3       ^Patient   Team communication is maintained throughout care  \n",
       "4       ^Patient  Demonstrates knowledge of the expected psychos...  \n",
       "...          ...                                                ...  \n",
       "102460  ^Patient  Fluid, electrolyte, and acid-base balances are...  \n",
       "102461  ^Patient  Respiratory status is maintained at or improve...  \n",
       "102462  ^Patient  Cardiovascular status is maintained at or impr...  \n",
       "102463  ^Patient   Demonstrates AndOr reports adequate pain control  \n",
       "102464  ^Patient  Neurological status is maintained at or improv...  \n",
       "\n",
       "[102465 rows x 5 columns]"
      ]
     },
     "execution_count": 14,
     "metadata": {},
     "output_type": "execute_result"
    }
   ],
   "source": [
    "mapped_df = update_df(df_extended, property_dict, system_dict)\n",
    "mapped_df"
   ]
  },
  {
   "cell_type": "markdown",
   "metadata": {},
   "source": [
    "### Computing relevance score with TF-IDF"
   ]
  },
  {
   "cell_type": "code",
   "execution_count": 15,
   "metadata": {},
   "outputs": [],
   "source": [
    "def calculate_ranking(df, query: str):\n",
    "    query = re.sub(r'\\bin\\b', '', query).strip()\n",
    "    vocabulary = query.split()\n",
    "    last_df = df.copy()\n",
    "    if 'relevance' in df.columns:\n",
    "        df = df.drop(columns=['relevance'])\n",
    "    combined_text = [' '.join(row) for row in zip(df['long_common_name'], df['component'])]\n",
    "    vectorizer = TfidfVectorizer(vocabulary=vocabulary)\n",
    "    X = vectorizer.fit_transform(combined_text)\n",
    "    query_vector = vectorizer.transform([query])\n",
    "    similarity_scores = cosine_similarity(X, query_vector).flatten()\n",
    "    last_df['score'] = similarity_scores\n",
    "    return last_df"
   ]
  },
  {
   "cell_type": "code",
   "execution_count": 16,
   "metadata": {},
   "outputs": [],
   "source": [
    "def evaluation(df, query, threshold):\n",
    "    new = calculate_ranking(df, query)\n",
    "    y_pred = (new['score'] >= threshold).astype(int)\n",
    "    cm = confusion_matrix(new['relevance'], y_pred)\n",
    "    precision = precision_score(new['relevance'], y_pred)\n",
    "    recall = recall_score(new['relevance'], y_pred)\n",
    "    print(\"Results for the query:\", query)\n",
    "    print(\"\\nConfusion Matrix:\")\n",
    "    print(cm)\n",
    "    print(\"\\nPrecision:\", precision)\n",
    "    print(\"Recall:\", recall)"
   ]
  },
  {
   "cell_type": "markdown",
   "metadata": {},
   "source": [
    "### Checking TF-IDF reliability on provided training dataset"
   ]
  },
  {
   "cell_type": "code",
   "execution_count": 17,
   "metadata": {},
   "outputs": [
    {
     "name": "stdout",
     "output_type": "stream",
     "text": [
      "Results for the query: bilirubin in plasma\n",
      "\n",
      "Confusion Matrix:\n",
      "[[60  0]\n",
      " [ 1  6]]\n",
      "\n",
      "Precision: 1.0\n",
      "Recall: 0.8571428571428571\n"
     ]
    }
   ],
   "source": [
    "evaluation(old_bilirubin_df, 'bilirubin in plasma', 0.5)"
   ]
  },
  {
   "cell_type": "code",
   "execution_count": 18,
   "metadata": {},
   "outputs": [],
   "source": [
    "old_bilirubin_df = calculate_ranking(old_bilirubin_df, \"bilirubin in plasma\")\n",
    "old_bilirubin_df = old_bilirubin_df.sort_values(by='score', ascending=False)\n",
    "old_bilirubin_df.to_excel('./training/init_bilirubin_in_plasma.xlsx', index=False)"
   ]
  },
  {
   "cell_type": "code",
   "execution_count": 19,
   "metadata": {},
   "outputs": [
    {
     "name": "stdout",
     "output_type": "stream",
     "text": [
      "Results for the query: glucose in blood\n",
      "\n",
      "Confusion Matrix:\n",
      "[[44  0]\n",
      " [ 0 23]]\n",
      "\n",
      "Precision: 1.0\n",
      "Recall: 1.0\n"
     ]
    }
   ],
   "source": [
    "evaluation(old_glucose_df, 'glucose in blood', 0.1)"
   ]
  },
  {
   "cell_type": "code",
   "execution_count": 20,
   "metadata": {},
   "outputs": [],
   "source": [
    "old_glucose_df = calculate_ranking(old_glucose_df, \"glucose in blood\")\n",
    "old_glucose_df = old_glucose_df.sort_values(by='score', ascending=False)\n",
    "old_glucose_df.to_excel('./training/init_glucose_in_blood.xlsx', index=False)"
   ]
  },
  {
   "cell_type": "code",
   "execution_count": 23,
   "metadata": {},
   "outputs": [
    {
     "name": "stdout",
     "output_type": "stream",
     "text": [
      "Results for the query: White blood cells count\n",
      "\n",
      "Confusion Matrix:\n",
      "[[49  4]\n",
      " [ 0 14]]\n",
      "\n",
      "Precision: 0.7777777777777778\n",
      "Recall: 1.0\n"
     ]
    },
    {
     "name": "stderr",
     "output_type": "stream",
     "text": [
      "c:\\Users\\fedep\\AppData\\Local\\Programs\\Python\\Python312\\Lib\\site-packages\\sklearn\\feature_extraction\\text.py:1381: UserWarning: Upper case characters found in vocabulary while 'lowercase' is True. These entries will not be matched with any documents\n",
      "  warnings.warn(\n"
     ]
    }
   ],
   "source": [
    "evaluation(old_white_cells_df, 'White blood cells count', 0.1)"
   ]
  },
  {
   "cell_type": "code",
   "execution_count": 180,
   "metadata": {},
   "outputs": [],
   "source": [
    "old_white_cells_df = calculate_ranking(old_white_cells_df, \"white blood cells count\")\n",
    "old_white_cells_df = old_white_cells_df.sort_values(by='score', ascending=False)\n",
    "old_white_cells_df.to_excel('./training/init_white_blood_cells_count.xlsx', index=False)"
   ]
  },
  {
   "cell_type": "markdown",
   "metadata": {},
   "source": [
    "### Extending dataset with all LOINC data relevant for each query"
   ]
  },
  {
   "cell_type": "code",
   "execution_count": null,
   "metadata": {},
   "outputs": [],
   "source": [
    "bilirubin_df = calculate_ranking(mapped_df, \"bilirubin in plasma\")\n",
    "bilirubin_df = bilirubin_df.sort_values(by='score', ascending=False)\n",
    "bilirubin_df[bilirubin_df['score']>0].to_excel('./training/bilirubin_in_plasma.xlsx', index=False)"
   ]
  },
  {
   "cell_type": "code",
   "execution_count": null,
   "metadata": {},
   "outputs": [],
   "source": [
    "glucose_in_blood_df = calculate_ranking(mapped_df, \"glucose in blood\")\n",
    "glucose_in_blood_df = glucose_in_blood_df.sort_values(by='score', ascending=False)\n",
    "glucose_in_blood_df[glucose_in_blood_df['score']>0].to_excel('./training/glucose_in_blood.xlsx', index=False)"
   ]
  },
  {
   "cell_type": "code",
   "execution_count": null,
   "metadata": {},
   "outputs": [],
   "source": [
    "white_blood_cells_count_df = calculate_ranking(mapped_df, \"white blood cells count\")\n",
    "white_blood_cells_count_df = white_blood_cells_count_df.sort_values(by='score', ascending=False)\n",
    "white_blood_cells_count_df[white_blood_cells_count_df['score']>0].to_excel('./training/white_blood_cells_count.xlsx', index=False)"
   ]
  },
  {
   "cell_type": "code",
   "execution_count": 126,
   "metadata": {},
   "outputs": [],
   "source": [
    "breast_cancer_df = calculate_ranking(mapped_df, \"breast cancer\")\n",
    "breast_cancer_df = breast_cancer_df.sort_values(by='score', ascending=False)\n",
    "breast_cancer_df[breast_cancer_df['score']>0].to_excel('./training/breast_cancer.xlsx', index=False)"
   ]
  }
 ],
 "metadata": {
  "kernelspec": {
   "display_name": "Python 3",
   "language": "python",
   "name": "python3"
  },
  "language_info": {
   "codemirror_mode": {
    "name": "ipython",
    "version": 3
   },
   "file_extension": ".py",
   "mimetype": "text/x-python",
   "name": "python",
   "nbconvert_exporter": "python",
   "pygments_lexer": "ipython3",
   "version": "3.12.0"
  }
 },
 "nbformat": 4,
 "nbformat_minor": 2
}
